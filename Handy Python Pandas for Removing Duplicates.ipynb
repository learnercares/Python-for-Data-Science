{
 "cells": [
  {
   "cell_type": "markdown",
   "id": "6a13b8ed",
   "metadata": {},
   "source": [
    "# Handy Python Pandas for Removing Duplicates, Reformatting Data, Renaming, and Reordering Columns\n",
    "\n",
    "__Data Cleaning & Data Preparation Series — <code> drop_duplicates, to_datetime(), strftime, apply(), rename()</code>__"
   ]
  },
  {
   "cell_type": "markdown",
   "id": "b38eb4d0",
   "metadata": {},
   "source": [
    "__1. Removing duplicates__\n",
    "\n",
    "Duplicates in a dataset can lead to inaccurate analysis and results. Therefore, it is essential to remove duplicates. To remove duplicates from a dataset, we can use the <code>drop_duplicates()</code> function in pandas library. This function removes rows that are exactly the same as another row in the dataframe."
   ]
  },
  {
   "cell_type": "code",
   "execution_count": 11,
   "id": "9cf71961",
   "metadata": {},
   "outputs": [],
   "source": [
    "import pandas as pd\n",
    "\n",
    "# create a sample dataframe\n",
    "df = pd.DataFrame({'name':['John', 'Alice', 'Mary', 'John'],\n",
    "                   'age':[25, 30, 27, 25],\n",
    "                   'gender':['M', 'F', 'F', 'M']})\n",
    "\n",
    "# remove duplicates based on all columns\n",
    "df1 = df.drop_duplicates()"
   ]
  },
  {
   "cell_type": "code",
   "execution_count": 12,
   "id": "4c722dfd",
   "metadata": {},
   "outputs": [
    {
     "name": "stdout",
     "output_type": "stream",
     "text": [
      "    name  age gender\n",
      "0   John   25      M\n",
      "1  Alice   30      F\n",
      "2   Mary   27      F\n"
     ]
    }
   ],
   "source": [
    "print(df1)"
   ]
  },
  {
   "cell_type": "code",
   "execution_count": 13,
   "id": "c9311af2",
   "metadata": {},
   "outputs": [],
   "source": [
    "# remove duplicates based on a specific column\n",
    "df2 = df.drop_duplicates(subset=['name'])"
   ]
  },
  {
   "cell_type": "code",
   "execution_count": 14,
   "id": "18985be6",
   "metadata": {},
   "outputs": [
    {
     "name": "stdout",
     "output_type": "stream",
     "text": [
      "    name  age gender\n",
      "0   John   25      M\n",
      "1  Alice   30      F\n",
      "2   Mary   27      F\n"
     ]
    }
   ],
   "source": [
    "print(df2)"
   ]
  },
  {
   "cell_type": "markdown",
   "id": "c6175b2c",
   "metadata": {},
   "source": [
    "__2. Reformatting data__\n",
    "\n",
    "Data can be formatted in various ways. Sometimes, it may be necessary to reformat data to fit specific requirements or to make it more presentable. In Python, we can use various functions and methods to reformat data."
   ]
  },
  {
   "cell_type": "code",
   "execution_count": 26,
   "id": "189fc8b3",
   "metadata": {},
   "outputs": [
    {
     "name": "stdout",
     "output_type": "stream",
     "text": [
      "Raw data\n",
      "\n",
      "         date  sales\n",
      "0  01-01-2021    500\n",
      "1  02-01-2021    700\n",
      "2  03-01-2021    900\n",
      "\n",
      "Converting date to datetime format\n",
      "\n",
      "        date  sales\n",
      "0 2021-01-01    500\n",
      "1 2021-02-01    700\n",
      "2 2021-03-01    900\n",
      "\n",
      "Changing format of the date\n",
      "\n",
      "         date  sales\n",
      "0  01/01/2021    500\n",
      "1  01/02/2021    700\n",
      "2  01/03/2021    900\n",
      "\n",
      "formating and adding currency symbol\n",
      "\n",
      "         date    sales\n",
      "0  01/01/2021  $500.00\n",
      "1  01/02/2021  $700.00\n",
      "2  01/03/2021  $900.00\n"
     ]
    }
   ],
   "source": [
    "# create a sample dataframe\n",
    "df = pd.DataFrame({'date':['01-01-2021', '02-01-2021', '03-01-2021'],\n",
    "                   'sales':[500, 700, 900]})\n",
    "\n",
    "print(\"Raw data\\n\")\n",
    "print(df)\n",
    "\n",
    "# convert date to datetime format\n",
    "print(\"\\nConverting date to datetime format\\n\")\n",
    "df['date'] = pd.to_datetime(df['date'])\n",
    "print(df)\n",
    "\n",
    "# change the format of the date\n",
    "print(\"\\nChanging format of the date\\n\")\n",
    "df['date'] = df['date'].dt.strftime('%d/%m/%Y')\n",
    "print(df)\n",
    "\n",
    "# format the sales column with a currency symbol\n",
    "print(\"\\nformating and adding currency symbol\\n\")\n",
    "\n",
    "df['sales'] = df['sales'].apply(lambda x: '${:,.2f}'.format(x))\n",
    "print(df)"
   ]
  },
  {
   "cell_type": "markdown",
   "id": "e6ca84a1",
   "metadata": {},
   "source": [
    "__3. Renaming and Reordering columns__\n",
    "\n",
    "Column names may not always be descriptive or may need to be changed to fit specific requirements. Similarly, the order of columns may also need to be changed. In Python, we can use the pandas library to rename and reorder columns."
   ]
  },
  {
   "cell_type": "code",
   "execution_count": 27,
   "id": "3d79e801",
   "metadata": {},
   "outputs": [
    {
     "name": "stdout",
     "output_type": "stream",
     "text": [
      "\n",
      "Raw data\n",
      "\n",
      "    name  age gender\n",
      "0   John   25      M\n",
      "1  Alice   30      F\n",
      "2   Mary   27      F\n",
      "\n",
      "renaming column\n",
      "\n",
      "  First Name  Age Gender\n",
      "0       John   25      M\n",
      "1      Alice   30      F\n",
      "2       Mary   27      F\n",
      "\n",
      "reordering columns\n",
      "\n",
      "  Gender  Age First Name\n",
      "0      M   25       John\n",
      "1      F   30      Alice\n",
      "2      F   27       Mary\n"
     ]
    }
   ],
   "source": [
    "# create a sample dataframe\n",
    "df = pd.DataFrame({'name':['John', 'Alice', 'Mary'],\n",
    "                   'age':[25, 30, 27],\n",
    "                   'gender':['M', 'F', 'F']})\n",
    "print(\"\\nRaw data\\n\")\n",
    "print(df)\n",
    "\n",
    "# rename columns\n",
    "df = df.rename(columns={'name':'First Name', 'age':'Age', 'gender':'Gender'})\n",
    "print(\"\\nrenaming column\\n\")\n",
    "print(df)\n",
    "\n",
    "# reorder columns\n",
    "df = df[['Gender', 'Age', 'First Name']]\n",
    "print(\"\\nreordering columns\\n\")\n",
    "print(df)"
   ]
  },
  {
   "cell_type": "markdown",
   "id": "6a59c8a6",
   "metadata": {},
   "source": [
    "__In summary__, removing duplicates, reformatting data, and renaming and reordering columns are essential steps in data processing and can be easily accomplished in Python using the pandas library."
   ]
  }
 ],
 "metadata": {
  "kernelspec": {
   "display_name": "Python 3 (ipykernel)",
   "language": "python",
   "name": "python3"
  },
  "language_info": {
   "codemirror_mode": {
    "name": "ipython",
    "version": 3
   },
   "file_extension": ".py",
   "mimetype": "text/x-python",
   "name": "python",
   "nbconvert_exporter": "python",
   "pygments_lexer": "ipython3",
   "version": "3.9.13"
  }
 },
 "nbformat": 4,
 "nbformat_minor": 5
}
